{
 "cells": [
  {
   "cell_type": "markdown",
   "metadata": {},
   "source": [
    "# What's Covered?\n",
    "\n",
    "- Some basic examples of using Dash in a notebook\n",
    "    - How to interact with a single function\n",
    "    - How to add a dependent function\n",
    "    - How to display Graphs with additional interactivity (download etc)\n",
    "    - How to dynamically update Graphs based on inputs\n",
    "    - How to work with Data objects in Dash (serverside)\n",
    "    - How to work with Dat objects in Dash (serverside)\n",
    "    \n"
   ]
  },
  {
   "cell_type": "markdown",
   "metadata": {},
   "source": [
    "# Using Dash in Jupyterlab\n",
    "\n",
    "To make Dash work well with a fairly normal analysis workflow, in addition to `dash` we need two additional packages:\n",
    "- `jupyter-dash` -- Allows re-running app building/serving without restarting the jupyter kernel\n",
    "- `dash-extensions` -- Provides a way to keep outputs serverside (ServersideOutput) which makes datatypes more flexible\n",
    "- `jupyter-server-proxy` -- Allows viewing the Dash app while connected remotely\n",
    "\n",
    "Because both `jupyter-dash` and `dash-extensions` requires using their own subclass of the `Dash` class, we will combine them and use combined class instead."
   ]
  },
  {
   "cell_type": "markdown",
   "metadata": {},
   "source": [
    "These packages have very loose dependencies (i.e. they don't specify what they need) but apparently very strict requirements (i.e. they fail if they don't have exactly what they need)\n",
    "\n",
    "Below is a list of the main packages that are relevant and versions that definitely work together:"
   ]
  },
  {
   "cell_type": "raw",
   "metadata": {},
   "source": [
    "dash                      2.8.1\n",
    "dash-bootstrap-components 1.2.0\n",
    "dash-core-components      2.0.0\n",
    "dash-extensions           0.1.11\n",
    "dash-html-components      2.0.0\n",
    "dash-labs                 1.1.0\n",
    "dash-table                5.0.0\n",
    "Flask                     2.1.2\n",
    "Flask-Caching             2.0.1\n",
    "Flask-Compress            1.12\n",
    "ipykernel                 6.15.1\n",
    "ipython                   8.9.0\n",
    "jupyter                   1.0.0\n",
    "jupyter-client            7.3.4\n",
    "jupyter-console           6.4.4\n",
    "jupyter-core              4.11.1\n",
    "jupyter-dash              0.4.2\n",
    "jupyter-pip               0.3.1\n",
    "jupyter-server            1.18.1\n",
    "jupyter-server-proxy      3.2.2\n",
    "jupyterlab                3.4.5\n",
    "jupyterlab-pygments       0.2.2\n",
    "jupyterlab-server         2.15.0\n",
    "jupyterlab-vim            0.15.1\n",
    "jupyterlab-widgets        1.1.1\n",
    "Werkzeug                  2.2.0"
   ]
  },
  {
   "cell_type": "markdown",
   "metadata": {},
   "source": [
    "# Generally Useful/Required Imports\n",
    "I.e. You'll usually want to use these next few cells when implementing dash interaction in a notebook page"
   ]
  },
  {
   "cell_type": "code",
   "execution_count": 1,
   "metadata": {
    "tags": []
   },
   "outputs": [],
   "source": [
    "from dat_analysis.dash.util import MyDash, Components as C, make_app, make_layout_section, get_unused_port\n",
    "import dash\n",
    "import dash_bootstrap_components as dbc\n",
    "\n",
    "def run_app(app, port:int = None, run=True, mode: str = 'inline'):\n",
    "    \"\"\"\n",
    "        For ease of use running app with correct settings (and easy to toggle run behavior)\n",
    "        Note: This function MUST stay in the notebook that calls it (something to do with the jupyter proxy stuff)\n",
    "    \"\"\"\n",
    "    import logging\n",
    "    if run:\n",
    "        if (count := getattr(app, '_run_count', 0)) > 0:\n",
    "            logging.warning(f'Note: app has been run {count} times previously, this can affect callback behavior')\n",
    "        app._run_count = count + 1\n",
    "        port = port if port else get_unused_port()\n",
    "        app.run_server(mode=mode, port=port)\n",
    "    else:\n",
    "        print(f'To run the app at this point, set `run=True`')"
   ]
  },
  {
   "cell_type": "code",
   "execution_count": 3,
   "metadata": {
    "tags": []
   },
   "outputs": [
    {
     "ename": "Exception",
     "evalue": "\n\n>>>>> Note: `JupyterDash.infer_jupyter_proxy_config()` has to be run with Shift+Enter (not the \"Run All\" button) <<<<<\n>>>>> This exception is here to enforce that <<<<<",
     "output_type": "error",
     "traceback": [
      "\u001b[1;31m---------------------------------------------------------------------------\u001b[0m",
      "\u001b[1;31mException\u001b[0m                                 Traceback (most recent call last)",
      "Cell \u001b[1;32mIn[3], line 1\u001b[0m\n\u001b[1;32m----> 1\u001b[0m \u001b[38;5;28;01mraise\u001b[39;00m \u001b[38;5;167;01mException\u001b[39;00m(\u001b[38;5;124mf\u001b[39m\u001b[38;5;124m'\u001b[39m\u001b[38;5;130;01m\\n\u001b[39;00m\u001b[38;5;130;01m\\n\u001b[39;00m\u001b[38;5;124m>>>>> Note: `JupyterDash.infer_jupyter_proxy_config()` has to be run with Shift+Enter (not the \u001b[39m\u001b[38;5;124m\"\u001b[39m\u001b[38;5;124mRun All\u001b[39m\u001b[38;5;124m\"\u001b[39m\u001b[38;5;124m button) <<<<<\u001b[39m\u001b[38;5;130;01m\\n\u001b[39;00m\u001b[38;5;124m>>>>> This exception is here to enforce that <<<<<\u001b[39m\u001b[38;5;124m'\u001b[39m)\n",
      "\u001b[1;31mException\u001b[0m: \n\n>>>>> Note: `JupyterDash.infer_jupyter_proxy_config()` has to be run with Shift+Enter (not the \"Run All\" button) <<<<<\n>>>>> This exception is here to enforce that <<<<<"
     ]
    }
   ],
   "source": [
    "raise Exception(f'\\n\\n>>>>> Note: `JupyterDash.infer_jupyter_proxy_config()` has to be run with Shift+Enter (not the \"Run All\" button) <<<<<\\n>>>>> This exception is here to enforce that <<<<<')"
   ]
  },
  {
   "cell_type": "code",
   "execution_count": 2,
   "metadata": {
    "tags": []
   },
   "outputs": [
    {
     "name": "stdout",
     "output_type": "stream",
     "text": [
      "The lab_black extension is not loaded.\n"
     ]
    }
   ],
   "source": [
    "# This cell must be run as a single cell (Shift/Ctrl+Enter) any time before `run_app(app)` is called. \n",
    "from jupyter_dash import JupyterDash\n",
    "# This allows the dash app to work when connected remotely\n",
    "# Note: For some reason, running this line is incomptible with using the `lab_black` extension. (and lab_black cannot be loaded later)\n",
    "%unload_ext lab_black\n",
    "# JupyterDash.infer_jupyter_proxy_config()\n",
    "\n",
    "# Note: If there are issues with this cell, try restarting the kernel and waiting a few seconds before executing this cell"
   ]
  },
  {
   "cell_type": "markdown",
   "metadata": {},
   "source": [
    "# Extremely basic tests to check the dash app works at all"
   ]
  },
  {
   "cell_type": "code",
   "execution_count": 3,
   "metadata": {
    "tags": []
   },
   "outputs": [],
   "source": [
    "import pandas as pd\n",
    "import numpy as np\n",
    "from dash import html\n",
    "import plotly.graph_objects as go\n",
    "\n",
    "from dat_analysis.plotting.plotly.util import figures_to_subplots"
   ]
  },
  {
   "cell_type": "code",
   "execution_count": 4,
   "metadata": {
    "tags": []
   },
   "outputs": [
    {
     "name": "stdout",
     "output_type": "stream",
     "text": [
      "To run the app at this point, set `run=True`\n"
     ]
    }
   ],
   "source": [
    "# Test that the simplest callback works\n",
    "app = make_app()\n",
    "\n",
    "# Make a simple layout\n",
    "output = C.Div(id='df-out')\n",
    "in_a = C.Input('in-a', value=0)\n",
    "app.layout = html.Div(children=[in_a, output])\n",
    "\n",
    "# Note: If the function is only going to be used for a single callback it can be decorated like this\n",
    "# Note: however, it makes the `test_func` unusuable outside of the app (test_func will == None)\n",
    "@app.callback(output.as_output(), in_a.as_input())\n",
    "def test_output(a):\n",
    "    return a\n",
    "\n",
    "# Run the app\n",
    "run_app(app, run=False)"
   ]
  },
  {
   "cell_type": "markdown",
   "metadata": {},
   "source": [
    "# Example of working with more general functions"
   ]
  },
  {
   "cell_type": "markdown",
   "metadata": {},
   "source": [
    "## Interacting with a single function\n",
    "### Make/test a function as if it was being used in a normal analysis page"
   ]
  },
  {
   "cell_type": "code",
   "execution_count": 5,
   "metadata": {
    "tags": []
   },
   "outputs": [
    {
     "data": {
      "text/html": [
       "<div>\n",
       "<style scoped>\n",
       "    .dataframe tbody tr th:only-of-type {\n",
       "        vertical-align: middle;\n",
       "    }\n",
       "\n",
       "    .dataframe tbody tr th {\n",
       "        vertical-align: top;\n",
       "    }\n",
       "\n",
       "    .dataframe thead th {\n",
       "        text-align: right;\n",
       "    }\n",
       "</style>\n",
       "<table border=\"1\" class=\"dataframe\">\n",
       "  <thead>\n",
       "    <tr style=\"text-align: right;\">\n",
       "      <th></th>\n",
       "      <th>0</th>\n",
       "    </tr>\n",
       "  </thead>\n",
       "  <tbody>\n",
       "    <tr>\n",
       "      <th>0</th>\n",
       "      <td>3</td>\n",
       "    </tr>\n",
       "    <tr>\n",
       "      <th>1</th>\n",
       "      <td>4</td>\n",
       "    </tr>\n",
       "  </tbody>\n",
       "</table>\n",
       "</div>"
      ],
      "text/plain": [
       "   0\n",
       "0  3\n",
       "1  4"
      ]
     },
     "execution_count": 5,
     "metadata": {},
     "output_type": "execute_result"
    }
   ],
   "source": [
    "# Now test a basic function that doesn't return a json serializable output (e.g. that would usually be required by dash)\n",
    "def make_df_test(a, b):\n",
    "    \"\"\"E.g. Some part of normal data processing\"\"\"\n",
    "    df = pd.DataFrame(data=[a, b])\n",
    "    return df\n",
    "    \n",
    "# Example Usage: Use the function for normal processing or for testing it works as expected\n",
    "test_df = make_df_test(3,4)\n",
    "test_df"
   ]
  },
  {
   "cell_type": "markdown",
   "metadata": {},
   "source": [
    "### How to interact with that function through a Dash App\n",
    "\n",
    "Note: The `serverside` output here is the important part that allows for passing a non json-serializable object from a callback"
   ]
  },
  {
   "cell_type": "code",
   "execution_count": 6,
   "metadata": {
    "tags": []
   },
   "outputs": [
    {
     "name": "stdout",
     "output_type": "stream",
     "text": [
      "To run the app at this point, set `run=True`\n"
     ]
    }
   ],
   "source": [
    "# Make outputs (place to store output of function and to show the output)\n",
    "df_store = C.Store()\n",
    "df_markdown = C.Markdown(heading='Test DF Output')\n",
    "\n",
    "# Make inputs (to fill values the function takes)\n",
    "in_a = C.Input('Input A')  # Note: This is also the ID of the input\n",
    "in_b = C.Dropdown('Input B', options=[1,2,3,4,5], value=3)\n",
    "\n",
    "# Put those components together into a layout\n",
    "layout = make_layout_section(stores=[df_store], inputs=[in_a, in_b], outputs=[df_markdown])\n",
    "\n",
    "# Wrap the function (necessary if the inputs need tidying before passing to real function)\n",
    "def _make_df_test(a, b):\n",
    "    # Make sure inputs are floats (dash passes strings for some types of input)\n",
    "    a, b = [-1 if v is None else float(v) for v in [a,b]]\n",
    "    return make_df_test(a, b)\n",
    "\n",
    "# Define a function that displays the output of make_df_test\n",
    "def show_df(df: pd.DataFrame):\n",
    "    \"\"\"Convert df to something to show in Dash App\"\"\"\n",
    "    return df.to_markdown()\n",
    "\n",
    "# Make app and attach callbacks (Note: cannot re-run callbacks with existing app)\n",
    "app = make_app()\n",
    "app.layout = layout  # Assign app layout (in this case just this section, but could include more)\n",
    "app.callback(df_store.as_output(serverside=True), in_a.as_input(), in_b.as_input())(_make_df_test)\n",
    "app.callback(df_markdown.as_output(), df_store.as_input())(show_df)\n",
    "\n",
    "# Run the app\n",
    "run_app(app, run=False)"
   ]
  },
  {
   "cell_type": "markdown",
   "metadata": {},
   "source": [
    "## Adding another function that depends on first\n",
    "### Make another function"
   ]
  },
  {
   "cell_type": "code",
   "execution_count": 7,
   "metadata": {
    "tags": []
   },
   "outputs": [
    {
     "data": {
      "text/html": [
       "<div>\n",
       "<style scoped>\n",
       "    .dataframe tbody tr th:only-of-type {\n",
       "        vertical-align: middle;\n",
       "    }\n",
       "\n",
       "    .dataframe tbody tr th {\n",
       "        vertical-align: top;\n",
       "    }\n",
       "\n",
       "    .dataframe thead th {\n",
       "        text-align: right;\n",
       "    }\n",
       "</style>\n",
       "<table border=\"1\" class=\"dataframe\">\n",
       "  <thead>\n",
       "    <tr style=\"text-align: right;\">\n",
       "      <th></th>\n",
       "      <th>0</th>\n",
       "    </tr>\n",
       "  </thead>\n",
       "  <tbody>\n",
       "    <tr>\n",
       "      <th>0</th>\n",
       "      <td>12</td>\n",
       "    </tr>\n",
       "    <tr>\n",
       "      <th>1</th>\n",
       "      <td>16</td>\n",
       "    </tr>\n",
       "  </tbody>\n",
       "</table>\n",
       "</div>"
      ],
      "text/plain": [
       "    0\n",
       "0  12\n",
       "1  16"
      ]
     },
     "execution_count": 7,
     "metadata": {},
     "output_type": "execute_result"
    }
   ],
   "source": [
    "# Example of using another function that takes the output of the first plus a new input\n",
    "def do_something_with_df(df: pd.DataFrame, multiplier):\n",
    "    return df.apply(lambda x: x*multiplier)\n",
    "\n",
    "# Example Usage: Use the function for normal processing or for testing it works as expected\n",
    "do_something_with_df(test_df, 4)"
   ]
  },
  {
   "cell_type": "markdown",
   "metadata": {},
   "source": [
    "### Continue to add to same app created above"
   ]
  },
  {
   "cell_type": "code",
   "execution_count": 8,
   "metadata": {
    "tags": []
   },
   "outputs": [
    {
     "name": "stdout",
     "output_type": "stream",
     "text": [
      "Dash is running on http://127.0.0.1:57829/\n",
      "\n"
     ]
    },
    {
     "data": {
      "text/html": [
       "\n",
       "        <iframe\n",
       "            width=\"100%\"\n",
       "            height=\"650\"\n",
       "            src=\"http://127.0.0.1:57829/\"\n",
       "            frameborder=\"0\"\n",
       "            allowfullscreen\n",
       "            \n",
       "        ></iframe>\n",
       "        "
      ],
      "text/plain": [
       "<IPython.lib.display.IFrame at 0x1d555dd2e00>"
      ]
     },
     "metadata": {},
     "output_type": "display_data"
    }
   ],
   "source": [
    "# Make outputs (place to store output of function and to show the output)\n",
    "multiplied_df_store = C.Store()\n",
    "multiplied_df_markdown = C.Markdown(heading='Multiplied DF Output')\n",
    "\n",
    "# Make inputs (to fill values the function takes)\n",
    "multiplier_slider = C.Slider('Multiplier', min=1, max=10, step=1, value=3)\n",
    "\n",
    "# Put those components together into a layout\n",
    "mult_layout = make_layout_section(stores=[multiplied_df_store], inputs=[multiplier_slider], outputs=[multiplied_df_markdown])\n",
    "\n",
    "# Wrap the function (necessary if the inputs need tidying before passing to real function)\n",
    "def _do_something_with_df(df: pd.DataFrame, multiplier):\n",
    "    multiplier = 0 if multiplier is None else multiplier\n",
    "    return do_something_with_df(df, multiplier)\n",
    "\n",
    "# Re-assign layout and attach callbacks (Note: cannot re-run callbacks with existing app)\n",
    "# Note: Not making a new app here so as not to have to re-run the callbacks in cells above\n",
    "app.layout = dbc.Container([layout, mult_layout])  # Combining layouts\n",
    "app.callback(multiplied_df_store.as_output(serverside=True), df_store.as_input(), multiplier_slider.as_input())(_do_something_with_df)\n",
    "app.callback(multiplied_df_markdown.as_output(), multiplied_df_store.as_input())(show_df)  # Note: Re-using earlier function\n",
    "\n",
    "# Run the app\n",
    "run_app(app, run=True)"
   ]
  },
  {
   "cell_type": "markdown",
   "metadata": {},
   "source": [
    "# Example with Graphs"
   ]
  },
  {
   "cell_type": "markdown",
   "metadata": {},
   "source": [
    "## Displaying Static Figures\n",
    "I.e. Figures that do not get updated by other functions"
   ]
  },
  {
   "cell_type": "markdown",
   "metadata": {},
   "source": [
    "### Make some test figures to show"
   ]
  },
  {
   "cell_type": "code",
   "execution_count": 9,
   "metadata": {
    "tags": []
   },
   "outputs": [],
   "source": [
    "x = np.linspace(0, 2)\n",
    "y = np.linspace(0, 1)\n",
    "z = np.sin(np.exp(x))*np.cos(y**2)[:, None]\n",
    "\n",
    "fig = go.Figure().add_trace(go.Heatmap(x=x, y=y, z=z)).update_layout(title='Testing a 2D Figure')\n",
    "fig2 = go.Figure().add_trace(go.Scatter(x=x, y=np.sin(4*y))).update_layout(title='Testing a 1D Figure')\n",
    "\n",
    "# Change to True to plot the regular figures\n",
    "if False:\n",
    "    fig.show()\n",
    "    fig2.show()"
   ]
  },
  {
   "cell_type": "markdown",
   "metadata": {},
   "source": [
    "### Add to app\n",
    "Once added to the app, you will get access to options to download the figures or toggle between waterfall mode etc."
   ]
  },
  {
   "cell_type": "code",
   "execution_count": 10,
   "metadata": {
    "tags": []
   },
   "outputs": [
    {
     "name": "stdout",
     "output_type": "stream",
     "text": [
      "To run the app at this point, set `run=True`\n"
     ]
    }
   ],
   "source": [
    "# Make outputs that hold figures\n",
    "graph1 = C.Graph(figure=fig)  \n",
    "graph2 = C.Graph(figure=fig2)\n",
    "\n",
    "# Make a new app\n",
    "app = make_app()\n",
    "\n",
    "# Add figures to layout\n",
    "app.layout = C.Div(children=[graph1.layout(), graph2.layout()])\n",
    "\n",
    "# Add callbacks\n",
    "C.Graph.run_callbacks(app)  # Note: this will work for all C.Graph components (they share the same callback)\n",
    "\n",
    "# Run app\n",
    "run_app(app, run=False)"
   ]
  },
  {
   "cell_type": "markdown",
   "metadata": {},
   "source": [
    "## Displaying Dynamic Figures\n",
    "I.e. Figures that can be updated by other functions"
   ]
  },
  {
   "cell_type": "markdown",
   "metadata": {},
   "source": [
    "### Make a test function that makes figures"
   ]
  },
  {
   "cell_type": "code",
   "execution_count": 11,
   "metadata": {
    "tags": []
   },
   "outputs": [],
   "source": [
    "def make_test_fig(a: float, b: float):\n",
    "    x = np.linspace(0, a)\n",
    "    y = np.linspace(0, b)\n",
    "    z = np.sin(np.exp(x))*np.cos(y**2)[:, None]\n",
    "    fig = go.Figure().add_trace(go.Heatmap(x=x, y=y, z=z)).update_layout(title='Testing a 2D Figure')\n",
    "    return fig\n",
    "\n",
    "# Change to True to plot the regular figures\n",
    "if False:\n",
    "    make_test_fig(2, 7).show()"
   ]
  },
  {
   "cell_type": "markdown",
   "metadata": {},
   "source": [
    "### Add to app"
   ]
  },
  {
   "cell_type": "code",
   "execution_count": 12,
   "metadata": {
    "tags": []
   },
   "outputs": [
    {
     "name": "stdout",
     "output_type": "stream",
     "text": [
      "Dash is running on http://127.0.0.1:57860/\n",
      "\n"
     ]
    },
    {
     "data": {
      "text/html": [
       "\n",
       "        <iframe\n",
       "            width=\"100%\"\n",
       "            height=\"650\"\n",
       "            src=\"http://127.0.0.1:57860/\"\n",
       "            frameborder=\"0\"\n",
       "            allowfullscreen\n",
       "            \n",
       "        ></iframe>\n",
       "        "
      ],
      "text/plain": [
       "<IPython.lib.display.IFrame at 0x1d555fb32b0>"
      ]
     },
     "metadata": {},
     "output_type": "display_data"
    }
   ],
   "source": [
    "# Make outputs (place to store output of function and to show the output)\n",
    "graph1 = C.Graph()\n",
    "\n",
    "# Make inputs (to fill values the function takes)\n",
    "slider_a = C.Slider('Input A', min=0.1, max=5, value=2)\n",
    "slider_b = C.Slider('Input B', min=1, max=15, value=2)\n",
    "\n",
    "# Put those components together into a layout\n",
    "layout = make_layout_section(stores=[], inputs=[slider_a, slider_b], outputs=[graph1])\n",
    "\n",
    "# Wrap the function (necessary if the inputs need tidying before passing to real function)\n",
    "# Note: Not necessary with sliders (they already provide floats)\n",
    "\n",
    "# Make app, assign layout, and attach callbacks (Note: cannot re-run callbacks with existing app)\n",
    "app = make_app()\n",
    "app.layout = layout\n",
    "C.Graph.run_callbacks(app)\n",
    "app.callback(graph1.as_output(), slider_a.as_input(), slider_b.as_input())(make_test_fig)\n",
    "\n",
    "# Run the app\n",
    "run_app(app, run=True, mode='inline')"
   ]
  },
  {
   "cell_type": "markdown",
   "metadata": {},
   "source": [
    "# Example with Data objects \n",
    "i.e. `Data(x=np.array, y=np.array, data=np.array)`"
   ]
  },
  {
   "cell_type": "markdown",
   "metadata": {},
   "source": [
    "### Standard Set-up of get_dat for Examples\n",
    "The standard set-up of `get_dat` for these examples, you would not normally do this in every individual .ipynb file"
   ]
  },
  {
   "cell_type": "code",
   "execution_count": 13,
   "metadata": {
    "tags": []
   },
   "outputs": [],
   "source": [
    "import dat_analysis\n",
    "\n",
    "def get_dat(datnum, raw=False, overwrite=False):\n",
    "    \"\"\"\n",
    "    Define a simple get_dat function that knows where to load dats from and save them to\n",
    "\n",
    "    Note: In a full setup where a path to `measurement-data` and a general save location have already been set in the dat_analysis config.toml, you can use:\n",
    "        return dat_analysis.get_dat(datnum, host_name, user_name, experiment_name, raw=raw, overwrite=overwrite)\n",
    "    \"\"\"\n",
    "    hdf_name = f\"dat{datnum}{'_RAW' if raw else ''}.h5\"\n",
    "    return dat_analysis.get_dat_from_exp_filepath(f'experiment_dats/{hdf_name}', override_save_path=f'analyzed_dats/{hdf_name}', overwrite=overwrite)"
   ]
  },
  {
   "cell_type": "code",
   "execution_count": 14,
   "metadata": {
    "tags": []
   },
   "outputs": [],
   "source": [
    "from dat_analysis import Data\n",
    "\n",
    "# For type checking\n",
    "from dat_analysis.dat.dat_hdf import DatHDF"
   ]
  },
  {
   "cell_type": "code",
   "execution_count": 15,
   "metadata": {
    "tags": []
   },
   "outputs": [],
   "source": [
    "# Load some dats to test with\n",
    "dats = [get_dat(6420), get_dat(6507)]\n",
    "\n",
    "# Avoid reloading dats where possible (although not really necessary)\n",
    "dat_dict = {dat.datnum: dat for dat in dats}"
   ]
  },
  {
   "cell_type": "markdown",
   "metadata": {},
   "source": [
    "## Passing a single Data instance"
   ]
  },
  {
   "cell_type": "code",
   "execution_count": 16,
   "metadata": {
    "tags": []
   },
   "outputs": [
    {
     "name": "stdout",
     "output_type": "stream",
     "text": [
      "Dash is running on http://127.0.0.1:57183/\n",
      "\n"
     ]
    },
    {
     "data": {
      "text/html": [
       "\n",
       "        <iframe\n",
       "            width=\"100%\"\n",
       "            height=\"650\"\n",
       "            src=\"http://127.0.0.1:57183/\"\n",
       "            frameborder=\"0\"\n",
       "            allowfullscreen\n",
       "            \n",
       "        ></iframe>\n",
       "        "
      ],
      "text/plain": [
       "<IPython.lib.display.IFrame at 0x19e1ccee8c0>"
      ]
     },
     "metadata": {},
     "output_type": "display_data"
    }
   ],
   "source": [
    "#### To display this function  ####\n",
    "def get_cs_data_from_dat(dat: DatHDF):\n",
    "    x = dat.Data.x\n",
    "    y = dat.Data.y\n",
    "    data = dat.Data.get_data('cscurrent_2d')\n",
    "    return Data(x=x, y=y, data=data)\n",
    "####################################\n",
    "\n",
    "# Make outputs (place to store output of function and to show the output)\n",
    "store = C.Store()  \n",
    "graph = C.Graph()\n",
    "\n",
    "# Make inputs (to fill values the function takes)\n",
    "in_a = C.Dropdown('Select Datnum', options=[dat.datnum for dat in dats], value=dats[0].datnum)\n",
    "\n",
    "# Put those components together into a layout\n",
    "layout = make_layout_section(stores=[store], inputs=[in_a], outputs=[graph])\n",
    "\n",
    "# Wrap the function (necessary if the inputs need tidying before passing to real function)\n",
    "def _get_cs_data_from_dat(datnum: int):\n",
    "    if datnum in dat_dict:\n",
    "        dat = dat_dict[datnum]\n",
    "        return get_cs_data_from_dat(dat)\n",
    "    else:\n",
    "        logging.warning(f'{datnum} not in dat_dict')\n",
    "        return dash.no_update\n",
    "\n",
    "# Define a function that displays the output of make_df_test\n",
    "def show_output(data: Data):\n",
    "    \"\"\"Convert df to something to show in Dash App\"\"\"\n",
    "    if data is None:\n",
    "        return dash.no_update\n",
    "    if data.data.ndim == 1:\n",
    "        fig = go.Figure().add_trace(go.Scatter(x=data.x, y=data.data))\n",
    "    elif data.data.ndim == 2:\n",
    "        fig = go.Figure().add_trace(go.Heatmap(x=data.x, y=data.y, z=data.data))\n",
    "    else:\n",
    "        logging.warning(f'{data.data.ndim} not 1 or 2')\n",
    "    return fig\n",
    "\n",
    "# Make app and attach callbacks (Note: cannot re-run callbacks with existing app)\n",
    "app = make_app()\n",
    "app.layout = layout  \n",
    "app.callback(store.as_output(serverside=True), in_a.as_input())(_get_cs_data_from_dat)\n",
    "app.callback(graph.as_output(), store.as_input())(show_output)\n",
    "C.Graph.run_callbacks(app)\n",
    "\n",
    "# Run the app\n",
    "run_app(app, run=True)"
   ]
  },
  {
   "cell_type": "markdown",
   "metadata": {},
   "source": [
    "## Passing a list of Data instances"
   ]
  },
  {
   "cell_type": "code",
   "execution_count": 17,
   "metadata": {
    "tags": []
   },
   "outputs": [
    {
     "name": "stdout",
     "output_type": "stream",
     "text": [
      "Dash is running on http://127.0.0.1:57187/\n",
      "\n"
     ]
    },
    {
     "data": {
      "text/html": [
       "\n",
       "        <iframe\n",
       "            width=\"100%\"\n",
       "            height=\"650\"\n",
       "            src=\"http://127.0.0.1:57187/\"\n",
       "            frameborder=\"0\"\n",
       "            allowfullscreen\n",
       "            \n",
       "        ></iframe>\n",
       "        "
      ],
      "text/plain": [
       "<IPython.lib.display.IFrame at 0x19e1cd07ca0>"
      ]
     },
     "metadata": {},
     "output_type": "display_data"
    }
   ],
   "source": [
    "from dat_analysis.useful_functions import ensure_list\n",
    "\n",
    "#### To display this function  ####\n",
    "def get_cs_data_from_dats(dats: list[DatHDF]) -> list[Data]:\n",
    "    datas = []\n",
    "    for dat in dats:\n",
    "        x = dat.Data.x\n",
    "        y = dat.Data.y\n",
    "        data = dat.Data.get_data('cscurrent_2d')\n",
    "        datas.append(Data(x=x, y=y, data=data))\n",
    "    return datas\n",
    "####################################\n",
    "\n",
    "# Make outputs (place to store output of function and to show the output)\n",
    "store = C.Store()  \n",
    "out_div = C.Div()\n",
    "\n",
    "# Make inputs (to fill values the function takes)\n",
    "in_a = C.Dropdown('Select Datnum', options=[dat.datnum for dat in dats], value=[dat.datnum for dat in dats[:3]], multi=True)\n",
    "\n",
    "# Put those components together into a layout\n",
    "layout = make_layout_section(stores=[store], inputs=[in_a], outputs=[out_div])\n",
    "\n",
    "# Wrap the function (necessary if the inputs need tidying before passing to real function)\n",
    "def _get_cs_data_from_dats(datnums: list[int]):\n",
    "    datnums = ensure_list(datnums)\n",
    "    dats = []\n",
    "    for datnum in datnums:\n",
    "        if datnum in dat_dict:\n",
    "            dat = dat_dict[datnum]\n",
    "            dats.append(dat)\n",
    "        else:\n",
    "            logging.warning(f'{datnum} not in dat_dict')\n",
    "    return get_cs_data_from_dats(dats)\n",
    "\n",
    "# Define a function that displays the output of make_df_test\n",
    "def show_output(datas: list[Data]):\n",
    "    \"\"\"Convert df to something to show in Dash App\"\"\"\n",
    "    if datas is None or len(datas) == 0:\n",
    "        return dash.html.Div('Select a dat to show output')\n",
    "    figs = []\n",
    "    for data in datas:\n",
    "        if data.data.ndim == 1:\n",
    "            fig = go.Figure().add_trace(go.Scatter(x=data.x, y=data.data))\n",
    "        elif data.data.ndim == 2:\n",
    "            fig = go.Figure().add_trace(go.Heatmap(x=data.x, y=data.y, z=data.data))\n",
    "        else:\n",
    "            logging.warning(f'{data.data.ndim} not 1 or 2')\n",
    "        figs.append(fig)\n",
    "    return dash.html.Div(children=[C.Graph(figure=fig) for fig in figs])\n",
    "\n",
    "# Make app and attach callbacks (Note: cannot re-run callbacks with existing app)\n",
    "app = make_app()\n",
    "app.layout = layout  \n",
    "app.callback(store.as_output(serverside=True), in_a.as_input())(_get_cs_data_from_dats)\n",
    "app.callback(out_div.as_output(), store.as_input())(show_output)\n",
    "C.Graph.run_callbacks(app)\n",
    "\n",
    "# Run the app\n",
    "run_app(app, run=True)"
   ]
  },
  {
   "cell_type": "markdown",
   "metadata": {},
   "source": [
    "# Example working with DatHDF objects\n",
    "Even Dat objects can be passed through Store components as long as they are updated with Serverside callbacks"
   ]
  },
  {
   "cell_type": "markdown",
   "metadata": {},
   "source": [
    "## Passing a Single DatHDF object"
   ]
  },
  {
   "cell_type": "code",
   "execution_count": 18,
   "metadata": {
    "tags": []
   },
   "outputs": [
    {
     "name": "stdout",
     "output_type": "stream",
     "text": [
      "Dash is running on http://127.0.0.1:57191/\n",
      "\n"
     ]
    },
    {
     "data": {
      "text/html": [
       "\n",
       "        <iframe\n",
       "            width=\"100%\"\n",
       "            height=\"650\"\n",
       "            src=\"http://127.0.0.1:57191/\"\n",
       "            frameborder=\"0\"\n",
       "            allowfullscreen\n",
       "            \n",
       "        ></iframe>\n",
       "        "
      ],
      "text/plain": [
       "<IPython.lib.display.IFrame at 0x19e1cd9d000>"
      ]
     },
     "metadata": {},
     "output_type": "display_data"
    }
   ],
   "source": [
    "def select_dat(datnum) -> DatHDF:\n",
    "    if datnum in dat_dict:\n",
    "        return dat_dict[datnum]\n",
    "    return None\n",
    "\n",
    "def get_cs_data_from_dat(dat: DatHDF):\n",
    "    if dat is not None:\n",
    "        x = dat.Data.x\n",
    "        y = dat.Data.y\n",
    "        data = dat.Data.get_data('cscurrent_2d')\n",
    "        return Data(x=x, y=y, data=data)\n",
    "    return None\n",
    "\n",
    "#############################\n",
    "\n",
    "\n",
    "# Make outputs (place to store output of function and to show the output)\n",
    "stores = [\n",
    "    dat_store := C.Store(),\n",
    "    data_store := C.Store(),\n",
    "]\n",
    "outputs = [\n",
    "    graph := C.Graph(),\n",
    "]\n",
    "# Make inputs (to fill values the function takes)\n",
    "inputs = [\n",
    "    in_a := C.Dropdown('Select Datnum', options=[dat.datnum for dat in dats], value=dats[0].datnum),\n",
    "]\n",
    "\n",
    "# Put those components together into a layout\n",
    "layout = make_layout_section(stores=stores, inputs=inputs, outputs=outputs)\n",
    "\n",
    "# Wrap the function (necessary if the inputs need tidying before passing to real function)\n",
    "# Not necessary\n",
    "\n",
    "# Define a function that displays the output of make_df_test\n",
    "def show_output(data: Data, dat: DatHDF):\n",
    "    \"\"\"Convert df to something to show in Dash App\"\"\"\n",
    "    if data is None:\n",
    "        return go.Figure()\n",
    "    if data.data.ndim == 1:\n",
    "        fig = go.Figure().add_trace(go.Scatter(x=data.x, y=data.data))\n",
    "    elif data.data.ndim == 2:\n",
    "        fig = go.Figure().add_trace(go.Heatmap(x=data.x, y=data.y, z=data.data))\n",
    "    else:\n",
    "        logging.warning(f'{data.data.ndim} not 1 or 2')\n",
    "        fig = go.Figure()\n",
    "    if dat is not None:\n",
    "        fig.update_layout(title=f'Dat{dat.datnum}: Example Title <br>Time Completed={dat.Logs.time_completed}', xaxis_title=dat.Logs.x_label, yaxis_title=dat.Logs.y_label)\n",
    "    return fig\n",
    "\n",
    "# Make app and attach callbacks (Note: cannot re-run callbacks with existing app)\n",
    "app = make_app()\n",
    "app.layout = layout  \n",
    "app.callback(dat_store.as_output(serverside=True), in_a.as_input())(select_dat)\n",
    "app.callback(data_store.as_output(serverside=True), dat_store.as_input())(get_cs_data_from_dat)\n",
    "app.callback(graph.as_output(), data_store.as_input(), dat_store.as_input())(show_output)\n",
    "C.Graph.run_callbacks(app)\n",
    "\n",
    "# Run the app\n",
    "run_app(app, run=True)"
   ]
  },
  {
   "cell_type": "markdown",
   "metadata": {},
   "source": [
    "## Pass a List of DatHDF objects"
   ]
  },
  {
   "cell_type": "code",
   "execution_count": 19,
   "metadata": {
    "tags": []
   },
   "outputs": [
    {
     "name": "stdout",
     "output_type": "stream",
     "text": [
      "Dash is running on http://127.0.0.1:57207/\n",
      "\n"
     ]
    },
    {
     "data": {
      "text/html": [
       "\n",
       "        <iframe\n",
       "            width=\"100%\"\n",
       "            height=\"650\"\n",
       "            src=\"http://127.0.0.1:57207/\"\n",
       "            frameborder=\"0\"\n",
       "            allowfullscreen\n",
       "            \n",
       "        ></iframe>\n",
       "        "
      ],
      "text/plain": [
       "<IPython.lib.display.IFrame at 0x19e1cd6dae0>"
      ]
     },
     "metadata": {},
     "output_type": "display_data"
    }
   ],
   "source": [
    "def select_dats(datnums) -> DatHDF:\n",
    "    dats = []\n",
    "    if datnums is not None:\n",
    "        for datnum in datnums:\n",
    "            if datnum in dat_dict:\n",
    "                dats.append(dat_dict[datnum])\n",
    "    return dats\n",
    "\n",
    "def get_cs_data_from_dats(dats: list[DatHDF]) -> list[Data]:\n",
    "    datas = []\n",
    "    for dat in dats:\n",
    "        x = dat.Data.x\n",
    "        y = dat.Data.y\n",
    "        data = dat.Data.get_data('cscurrent_2d')\n",
    "        datas.append(Data(x=x, y=y, data=data))\n",
    "    return datas\n",
    "####################################\n",
    "\n",
    "# Make outputs (place to store output of function and to show the output)\n",
    "stores = [\n",
    "    dats_store := C.Store(),\n",
    "    data_store := C.Store(),\n",
    "]\n",
    "outputs = [\n",
    "    out_div := C.Div(),\n",
    "]\n",
    "# Make inputs (to fill values the function takes)\n",
    "inputs = [\n",
    "    in_a := C.Dropdown('Select Datnum', options=[dat.datnum for dat in dats], value=[dat.datnum for dat in dats[:3]], multi=True)\n",
    "]\n",
    "\n",
    "# Put those components together into a layout\n",
    "layout = make_layout_section(stores=stores, inputs=inputs, outputs=outputs)\n",
    "\n",
    "# Wrap the function (necessary if the inputs need tidying before passing to real function)\n",
    "# Not necessary\n",
    "\n",
    "# Define a function that displays the output of make_df_test\n",
    "def show_output(datas: list[Data], dats: list[DatHDF]):\n",
    "    \"\"\"Convert df to something to show in Dash App\"\"\"\n",
    "    if datas is None or len(datas) == 0:\n",
    "        return dash.html.Div('Select a dat to show output')\n",
    "    figs = []\n",
    "    for data, dat in zip(datas, dats):\n",
    "        if data.data.ndim == 1:\n",
    "            fig = go.Figure().add_trace(go.Scatter(x=data.x, y=data.data))\n",
    "        elif data.data.ndim == 2:\n",
    "            fig = go.Figure().add_trace(go.Heatmap(x=data.x, y=data.y, z=data.data))\n",
    "        else:\n",
    "            logging.warning(f'{data.data.ndim} not 1 or 2')\n",
    "            fig = default_fig()\n",
    "        fig.update_layout(title=f'Dat{dat.datnum}: Example Title <br>Time Completed={dat.Logs.time_completed}', xaxis_title=dat.Logs.x_label, yaxis_title=dat.Logs.y_label)\n",
    "        figs.append(fig)\n",
    "    return dash.html.Div(children=[C.Graph(figure=fig) for fig in figs])\n",
    "\n",
    "# Make app and attach callbacks (Note: cannot re-run callbacks with existing app)\n",
    "app = make_app()\n",
    "app.layout = layout  \n",
    "app.callback(dats_store.as_output(serverside=True), in_a.as_input())(select_dats)\n",
    "app.callback(data_store.as_output(serverside=True), dats_store.as_input())(get_cs_data_from_dats)\n",
    "app.callback(out_div.as_output(), data_store.as_input(), dats_store.as_input())(show_output)\n",
    "C.Graph.run_callbacks(app)\n",
    "\n",
    "# Run the app\n",
    "run_app(app, run=True)"
   ]
  },
  {
   "cell_type": "code",
   "execution_count": null,
   "metadata": {},
   "outputs": [],
   "source": []
  },
  {
   "cell_type": "code",
   "execution_count": null,
   "metadata": {},
   "outputs": [],
   "source": []
  },
  {
   "cell_type": "code",
   "execution_count": null,
   "metadata": {},
   "outputs": [],
   "source": []
  },
  {
   "cell_type": "code",
   "execution_count": null,
   "metadata": {},
   "outputs": [],
   "source": []
  },
  {
   "cell_type": "code",
   "execution_count": null,
   "metadata": {},
   "outputs": [],
   "source": []
  }
 ],
 "metadata": {
  "jupytext": {
   "formats": "ipynb,py:percent"
  },
  "kernelspec": {
   "display_name": "Python 3 (ipykernel)",
   "language": "python",
   "name": "python3"
  },
  "language_info": {
   "codemirror_mode": {
    "name": "ipython",
    "version": 3
   },
   "file_extension": ".py",
   "mimetype": "text/x-python",
   "name": "python",
   "nbconvert_exporter": "python",
   "pygments_lexer": "ipython3",
   "version": "3.10.10"
  }
 },
 "nbformat": 4,
 "nbformat_minor": 4
}
