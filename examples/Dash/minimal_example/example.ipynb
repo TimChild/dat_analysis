{
 "cells": [
  {
   "cell_type": "markdown",
   "metadata": {},
   "source": [
    "# Using Dash in Jupyterlab\n",
    "\n",
    "To make Dash work well with a fairly normal analysis workflow, in addition to `dash` we need two additional packages:\n",
    "- `jupyter-dash` -- Allows re-running app building/serving without restarting the jupyter kernel\n",
    "- `dash-extensions` -- Provides a way to keep outputs serverside (ServersideOutput) which makes datatypes more flexible\n",
    "- `jupyter-server-proxy` -- Allows viewing the Dash app while connected remotely\n",
    "\n",
    "Because both `jupyter-dash` and `dash-extensions` requires using their own subclass of the `Dash` class, we will combine them and use combined class instead."
   ]
  },
  {
   "cell_type": "markdown",
   "metadata": {},
   "source": [
    "These packages have very loose dependencies (i.e. they don't specify what they need) but apparently very strict requirements (i.e. they fail if they don't have exactly what they need)\n",
    "\n",
    "Below is a list of the main packages that are relevant and versions that definitely work together:"
   ]
  },
  {
   "cell_type": "raw",
   "metadata": {},
   "source": [
    "dash                      2.8.1\n",
    "dash-bootstrap-components 1.2.0\n",
    "dash-core-components      2.0.0\n",
    "dash-extensions           0.1.11\n",
    "dash-html-components      2.0.0\n",
    "dash-labs                 1.1.0\n",
    "dash-table                5.0.0\n",
    "Flask                     2.1.2\n",
    "Flask-Caching             2.0.1\n",
    "Flask-Compress            1.12\n",
    "ipykernel                 6.15.1\n",
    "ipython                   8.9.0\n",
    "jupyter                   1.0.0\n",
    "jupyter-client            7.3.4\n",
    "jupyter-console           6.4.4\n",
    "jupyter-core              4.11.1\n",
    "jupyter-dash              0.4.2\n",
    "jupyter-pip               0.3.1\n",
    "jupyter-server            1.18.1\n",
    "jupyter-server-proxy      3.2.2\n",
    "jupyterlab                3.4.5\n",
    "jupyterlab-pygments       0.2.2\n",
    "jupyterlab-server         2.15.0\n",
    "jupyterlab-vim            0.15.1\n",
    "jupyterlab-widgets        1.1.1\n",
    "Werkzeug                  2.2.0"
   ]
  },
  {
   "cell_type": "code",
   "execution_count": 1,
   "metadata": {
    "tags": []
   },
   "outputs": [],
   "source": [
    "from jupyter_dash import JupyterDash\n",
    "import dash\n",
    "from dash import dcc\n",
    "from dash import html\n",
    "import dash_bootstrap_components as dbc\n",
    "from dash import Input, Output, State\n",
    "from dash_extensions.enrich import DashProxy, ServersideOutput, ServersideOutputTransform, ServerStore\n",
    "\n",
    "class MyDash(JupyterDash, DashProxy):    \n",
    "    \"\"\"Allow use of dash-extensions while maintaining the jupyter-dash behavior\n",
    "    \n",
    "    When asking for a method on this class it will look in JupyterDash first, then DashProxy if it didn't find it in JupyterDash.\n",
    "    \"\"\"\n",
    "    pass"
   ]
  },
  {
   "cell_type": "code",
   "execution_count": 2,
   "metadata": {},
   "outputs": [
    {
     "ename": "Exception",
     "evalue": "\n\n>>>>> Note: `JupyterDash.infer_jupyter_proxy_config()` has to be run with Shift+Enter (not the Fast Forward button) <<<<<\n>>>>> This exception is here to enforce that <<<<<",
     "output_type": "error",
     "traceback": [
      "\u001B[1;31m---------------------------------------------------------------------------\u001B[0m",
      "\u001B[1;31mException\u001B[0m                                 Traceback (most recent call last)",
      "Cell \u001B[1;32mIn[2], line 1\u001B[0m\n\u001B[1;32m----> 1\u001B[0m \u001B[38;5;28;01mraise\u001B[39;00m \u001B[38;5;167;01mException\u001B[39;00m(\u001B[38;5;124mf\u001B[39m\u001B[38;5;124m'\u001B[39m\u001B[38;5;130;01m\\n\u001B[39;00m\u001B[38;5;130;01m\\n\u001B[39;00m\u001B[38;5;124m>>>>> Note: `JupyterDash.infer_jupyter_proxy_config()` has to be run with Shift+Enter (not the Fast Forward button) <<<<<\u001B[39m\u001B[38;5;130;01m\\n\u001B[39;00m\u001B[38;5;124m>>>>> This exception is here to enforce that <<<<<\u001B[39m\u001B[38;5;124m'\u001B[39m)\n",
      "\u001B[1;31mException\u001B[0m: \n\n>>>>> Note: `JupyterDash.infer_jupyter_proxy_config()` has to be run with Shift+Enter (not the Fast Forward button) <<<<<\n>>>>> This exception is here to enforce that <<<<<"
     ]
    }
   ],
   "source": [
    "raise Exception(f'\\n\\n>>>>> Note: `JupyterDash.infer_jupyter_proxy_config()` has to be run with Shift+Enter (not the Fast Forward button) <<<<<\\n>>>>> This exception is here to enforce that <<<<<')"
   ]
  },
  {
   "cell_type": "code",
   "execution_count": 3,
   "metadata": {
    "tags": []
   },
   "outputs": [
    {
     "name": "stdout",
     "output_type": "stream",
     "text": [
      "The lab_black extension is not loaded.\n"
     ]
    }
   ],
   "source": [
    "# This allows the dash app to work when connected remotely\n",
    "# Note: For some reason, running this line is incomptible with using the `lab_black` extension. (and lab_black cannot be loaded later)\n",
    "%unload_ext lab_black\n",
    "JupyterDash.infer_jupyter_proxy_config()"
   ]
  },
  {
   "cell_type": "code",
   "execution_count": 4,
   "metadata": {
    "tags": []
   },
   "outputs": [],
   "source": [
    "# Make a couple of functions to help later\n",
    "def make_app() -> MyDash:\n",
    "    \"\"\"Make a new instance of the dash app (then add layout and callbacks)\"\"\"\n",
    "    app = MyDash(__name__, transforms=[ServersideOutputTransform()], external_stylesheets=[dbc.themes.BOOTSTRAP])\n",
    "    return app\n",
    "\n",
    "def add_label(component, label: str):\n",
    "    \"\"\"Combine a label with a component when placing in layout\"\"\"\n",
    "    return html.Div([label, component])"
   ]
  },
  {
   "cell_type": "markdown",
   "metadata": {},
   "source": [
    "## Extremely basic tests to check the dash app works at all"
   ]
  },
  {
   "cell_type": "code",
   "execution_count": 6,
   "metadata": {
    "tags": []
   },
   "outputs": [],
   "source": [
    "# Super basic test that the server runs with the most basic layout\n",
    "app = make_app()\n",
    "app.layout = html.Div('test layout')\n",
    "\n",
    "# Uncomment to check this test works\n",
    "# app.run_server(mode='inline')"
   ]
  },
  {
   "cell_type": "code",
   "execution_count": 8,
   "metadata": {
    "tags": []
   },
   "outputs": [],
   "source": [
    "# Test that the simplest callback works\n",
    "app = make_app()\n",
    "\n",
    "output = html.Div(id='df-out')\n",
    "in_a = dbc.Input('in-a', value=0)\n",
    "app.layout = html.Div([in_a, output])\n",
    "\n",
    "@app.callback(Output(output.id, 'children'), Input(in_a.id, 'value'))\n",
    "def test_output(a):\n",
    "    return a\n",
    "\n",
    "# Uncomment to check this test works\n",
    "# app.run_server(mode='inline')"
   ]
  },
  {
   "cell_type": "markdown",
   "metadata": {},
   "source": [
    "## Example of working with more complex functions"
   ]
  },
  {
   "cell_type": "code",
   "execution_count": 9,
   "metadata": {
    "tags": []
   },
   "outputs": [],
   "source": [
    "import pandas as pd"
   ]
  },
  {
   "cell_type": "markdown",
   "metadata": {},
   "source": [
    "### Make/test a function as if it was being used in a normal analysis page"
   ]
  },
  {
   "cell_type": "code",
   "execution_count": 10,
   "metadata": {
    "tags": []
   },
   "outputs": [
    {
     "data": {
      "text/html": [
       "<div>\n",
       "<style scoped>\n",
       "    .dataframe tbody tr th:only-of-type {\n",
       "        vertical-align: middle;\n",
       "    }\n",
       "\n",
       "    .dataframe tbody tr th {\n",
       "        vertical-align: top;\n",
       "    }\n",
       "\n",
       "    .dataframe thead th {\n",
       "        text-align: right;\n",
       "    }\n",
       "</style>\n",
       "<table border=\"1\" class=\"dataframe\">\n",
       "  <thead>\n",
       "    <tr style=\"text-align: right;\">\n",
       "      <th></th>\n",
       "      <th>0</th>\n",
       "    </tr>\n",
       "  </thead>\n",
       "  <tbody>\n",
       "    <tr>\n",
       "      <th>0</th>\n",
       "      <td>3.0</td>\n",
       "    </tr>\n",
       "    <tr>\n",
       "      <th>1</th>\n",
       "      <td>4.0</td>\n",
       "    </tr>\n",
       "  </tbody>\n",
       "</table>\n",
       "</div>"
      ],
      "text/plain": [
       "     0\n",
       "0  3.0\n",
       "1  4.0"
      ]
     },
     "execution_count": 10,
     "metadata": {},
     "output_type": "execute_result"
    }
   ],
   "source": [
    "# Now test a basic function that doesn't return a json serializable output (e.g. that would usually be required by dash)\n",
    "def make_df_test(a, b):\n",
    "    \"\"\"E.g. Some part of normal data processing\"\"\"\n",
    "    # Make sure inputs are floats (dash passes strings for some types of input)\n",
    "    a, b = float(a), float(b)\n",
    "    df = pd.DataFrame(data=[a, b])\n",
    "    return df\n",
    "    \n",
    "# Use the function for normal processing or for testing it works as expected\n",
    "test_df = make_df_test(3,4)\n",
    "test_df"
   ]
  },
  {
   "cell_type": "markdown",
   "metadata": {},
   "source": [
    "### Use that function in a dash app"
   ]
  },
  {
   "cell_type": "code",
   "execution_count": 15,
   "metadata": {
    "tags": []
   },
   "outputs": [
    {
     "data": {
      "text/plain": [
       "<function __main__.show_df(df: pandas.core.frame.DataFrame)>"
      ]
     },
     "execution_count": 15,
     "metadata": {},
     "output_type": "execute_result"
    }
   ],
   "source": [
    "app = make_app()\n",
    "\n",
    "# Make component to store output of make_df_test\n",
    "df_store = dcc.Store('df-store')\n",
    "\n",
    "# Make component to display output of make_df_test\n",
    "output = dcc.Markdown(id='df-out')\n",
    "\n",
    "# Make components for the inputs of the make_df_test\n",
    "in_a = dbc.Input(id='in-a', value=0)\n",
    "in_b = dcc.Dropdown(id='in-b', options=[1,2,3,4,5], value=3)\n",
    "\n",
    "# Put those components into a layout (I'll add helper functions to make this easier)\n",
    "app.layout = html.Div([add_label(in_a, 'Input A'), add_label(in_b, 'Input B'), df_store, html.H2('Output 1'), output])\n",
    "\n",
    "# Define a function that displays the output of make_df_test\n",
    "def show_df(df: pd.DataFrame):\n",
    "    \"\"\"Convert df to something to show in Dash App\"\"\"\n",
    "    return df.to_markdown()\n",
    "    \n",
    "# Attach a callback to call make_df_test (Note: ServersideStore keeps the output on the server and allows for any pickleable object (not as strict as Json Serializeable)\n",
    "app.callback(ServersideOutput(df_store.id, 'data'), Input(in_a.id, 'value'), Input(in_b.id, 'value'))(make_df_test)\n",
    "\n",
    "# Attach the callback to show the output of make_df_test\n",
    "app.callback(Output(output.id, 'children'), Input(df_store.id, 'data'))(show_df)\n",
    "\n",
    "# Uncomment to check this test works at this stage\n",
    "# app.run_server(mode='inline')"
   ]
  },
  {
   "cell_type": "markdown",
   "metadata": {},
   "source": [
    "### Example of how this would extend to later functions that rely on earlier ones"
   ]
  },
  {
   "cell_type": "code",
   "execution_count": 16,
   "metadata": {
    "tags": []
   },
   "outputs": [
    {
     "data": {
      "text/html": [
       "<div>\n",
       "<style scoped>\n",
       "    .dataframe tbody tr th:only-of-type {\n",
       "        vertical-align: middle;\n",
       "    }\n",
       "\n",
       "    .dataframe tbody tr th {\n",
       "        vertical-align: top;\n",
       "    }\n",
       "\n",
       "    .dataframe thead th {\n",
       "        text-align: right;\n",
       "    }\n",
       "</style>\n",
       "<table border=\"1\" class=\"dataframe\">\n",
       "  <thead>\n",
       "    <tr style=\"text-align: right;\">\n",
       "      <th></th>\n",
       "      <th>0</th>\n",
       "    </tr>\n",
       "  </thead>\n",
       "  <tbody>\n",
       "    <tr>\n",
       "      <th>0</th>\n",
       "      <td>20.0</td>\n",
       "    </tr>\n",
       "    <tr>\n",
       "      <th>1</th>\n",
       "      <td>25.0</td>\n",
       "    </tr>\n",
       "  </tbody>\n",
       "</table>\n",
       "</div>"
      ],
      "text/plain": [
       "      0\n",
       "0  20.0\n",
       "1  25.0"
      ]
     },
     "execution_count": 16,
     "metadata": {},
     "output_type": "execute_result"
    }
   ],
   "source": [
    "# Example of using another function that takes the output of the first\n",
    "def do_something_with_df(df: pd.DataFrame, multiplier):\n",
    "    return df.apply(lambda x: x*multiplier)\n",
    "\n",
    "test_df = make_df_test(4,5)\n",
    "updated_test_df = do_something_with_df(test_df, 5)\n",
    "updated_test_df"
   ]
  },
  {
   "cell_type": "code",
   "execution_count": 17,
   "metadata": {
    "tags": []
   },
   "outputs": [
    {
     "name": "stdout",
     "output_type": "stream",
     "text": [
      "Dash is running on http://127.0.0.1:8050/\n",
      "\n"
     ]
    },
    {
     "data": {
      "text/html": [
       "\n",
       "        <iframe\n",
       "            width=\"100%\"\n",
       "            height=\"650\"\n",
       "            src=\"http://127.0.0.1:8050/\"\n",
       "            frameborder=\"0\"\n",
       "            allowfullscreen\n",
       "            \n",
       "        ></iframe>\n",
       "        "
      ],
      "text/plain": [
       "<IPython.lib.display.IFrame at 0x20fb05c6e30>"
      ]
     },
     "metadata": {},
     "output_type": "display_data"
    }
   ],
   "source": [
    "# Add this next function to dash app\n",
    "\n",
    "# Make new inputs\n",
    "multiplier_input = dcc.Slider(id='slider-multiplier', min=1, max=10, step=1, value=1)\n",
    "\n",
    "# Make new outputs\n",
    "multiplied_store = dcc.Store(id='store-multiplied')\n",
    "multiplied_output = dcc.Markdown(id='md-multiplied_out')\n",
    "\n",
    "# Now add to the dash app (adding to the existing layout)\n",
    "app.layout = html.Div([add_label(in_a, 'in_a'), add_label(in_b, 'in_b'), df_store, html.H2('Output 1'), output, html.Hr(), add_label(multiplier_input, 'multiplier'), multiplied_store, html.H2('Output 2'), multiplied_output])\n",
    "\n",
    "# Attach the callback to run the process\n",
    "app.callback(ServersideOutput(multiplied_store.id, 'data'), Input(df_store.id, 'data'), Input(multiplier_input.id, 'value'))(do_something_with_df)\n",
    "\n",
    "# Attach a callback to view the new output (in this case, can use the same function as last time)\n",
    "app.callback(Output(multiplied_output.id, 'children'), Input(multiplied_store.id, 'data'))(show_df)\n",
    "\n",
    "# Run server to test (Comment out if testing further down)\n",
    "app.run_server(mode='inline')"
   ]
  },
  {
   "cell_type": "code",
   "execution_count": null,
   "metadata": {},
   "outputs": [],
   "source": []
  },
  {
   "cell_type": "code",
   "execution_count": null,
   "metadata": {},
   "outputs": [],
   "source": []
  }
 ],
 "metadata": {
  "jupytext": {
   "formats": "ipynb,py:percent"
  },
  "kernelspec": {
   "display_name": "Python 3 (ipykernel)",
   "language": "python",
   "name": "python3"
  },
  "language_info": {
   "codemirror_mode": {
    "name": "ipython",
    "version": 3
   },
   "file_extension": ".py",
   "mimetype": "text/x-python",
   "name": "python",
   "nbconvert_exporter": "python",
   "pygments_lexer": "ipython3",
   "version": "3.10.10"
  }
 },
 "nbformat": 4,
 "nbformat_minor": 4
}
