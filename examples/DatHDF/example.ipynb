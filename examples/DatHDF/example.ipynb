{
 "cells": [
  {
   "cell_type": "markdown",
   "metadata": {},
   "source": [
    "# What's Covered?\n",
    "- Rough overview of what the DatHDF object provides easy access to and what it can do\n",
    "- Examples of accessing data in dat\n",
    "- Examples of accessing logs in dat"
   ]
  },
  {
   "cell_type": "markdown",
   "metadata": {},
   "source": [
    "# Standard Set-up of Examples\n",
    "The standard set-up for these examples, you would not normally do this in every individual .ipynb file"
   ]
  },
  {
   "cell_type": "code",
   "execution_count": 74,
   "metadata": {
    "tags": []
   },
   "outputs": [],
   "source": [
    "import dat_analysis\n",
    "\n",
    "def get_dat(datnum, raw=False, overwrite=False):\n",
    "    \"\"\"\n",
    "    Define a simple get_dat function that knows where to load dats from and save them to\n",
    "\n",
    "    Note: In a full setup where a path to `measurement-data` and a general save location have already been set in the dat_analysis config.toml, you can use:\n",
    "        return dat_analysis.get_dat(datnum, host_name, user_name, experiment_name, raw=raw, overwrite=overwrite)\n",
    "    \"\"\"\n",
    "    hdf_name = f\"dat{datnum}{'_RAW' if raw else ''}.h5\"\n",
    "    return dat_analysis.get_dat_from_exp_filepath(f'experiment_dats/{hdf_name}', override_save_path=f'analyzed_dats/{hdf_name}', overwrite=overwrite)"
   ]
  },
  {
   "cell_type": "markdown",
   "metadata": {},
   "source": [
    "# Load DatHDF object"
   ]
  },
  {
   "cell_type": "code",
   "execution_count": 75,
   "metadata": {
    "collapsed": false,
    "jupyter": {
     "outputs_hidden": false
    }
   },
   "outputs": [
    {
     "name": "stdout",
     "output_type": "stream",
     "text": [
      "<class 'dat_analysis.dat.dat_hdf.DatHDF'>\n"
     ]
    },
    {
     "data": {
      "text/plain": [
       "Dat6420 - March 3, 2023 14:35:42"
      ]
     },
     "execution_count": 75,
     "metadata": {},
     "output_type": "execute_result"
    }
   ],
   "source": [
    "dat = get_dat(6420, overwrite=True)  # Always start with a clean file for this example\n",
    "print(type(dat))\n",
    "dat"
   ]
  },
  {
   "cell_type": "markdown",
   "metadata": {},
   "source": [
    "## Data Attr\n",
    "Access to the experiment data is provided through the `.Data` attr of the `DatHDF` object"
   ]
  },
  {
   "cell_type": "code",
   "execution_count": 76,
   "metadata": {
    "tags": []
   },
   "outputs": [
    {
     "name": "stdout",
     "output_type": "stream",
     "text": [
      "Data with these names are available in the HDF file: ['cscurrent_2d']\n"
     ]
    }
   ],
   "source": [
    "data_keys = dat.Data.data_keys\n",
    "print(f'Data with these names are available in the HDF file: {data_keys}')"
   ]
  },
  {
   "cell_type": "code",
   "execution_count": 77,
   "metadata": {
    "tags": []
   },
   "outputs": [
    {
     "name": "stdout",
     "output_type": "stream",
     "text": [
      "We've now loaded the data and we can see it has:\n",
      "\ttype: <class 'numpy.ndarray'>\n",
      "\tshape: (131, 5076)\n"
     ]
    }
   ],
   "source": [
    "data = dat.Data.get_data('cscurrent_2d')\n",
    "print(f\"We've now loaded the data and we can see it has:\\n\\ttype: {type(data)}\\n\\tshape: {data.shape}\")"
   ]
  },
  {
   "cell_type": "code",
   "execution_count": 78,
   "metadata": {
    "tags": []
   },
   "outputs": [
    {
     "name": "stdout",
     "output_type": "stream",
     "text": [
      "x (and y) axes are always available by `.x` (and `.y`). \n",
      "They have shapes:\n",
      "\tx: (5076,)\n",
      "\ty: (131,)\n"
     ]
    }
   ],
   "source": [
    "x = dat.Data.x\n",
    "y = dat.Data.y\n",
    "\n",
    "print(f\"x (and y) axes are always available by `.x` (and `.y`). \\nThey have shapes:\\n\\tx: {x.shape}\\n\\ty: {y.shape}\")"
   ]
  },
  {
   "cell_type": "markdown",
   "metadata": {
    "tags": []
   },
   "source": [
    "We can also save new data to the HDF easily"
   ]
  },
  {
   "cell_type": "code",
   "execution_count": 79,
   "metadata": {
    "tags": []
   },
   "outputs": [],
   "source": [
    "import numpy as np\n",
    "dat.Data.set_data(\"new_data\", np.linspace(0, 10, 100), subgroup='optional_subgroup')"
   ]
  },
  {
   "cell_type": "code",
   "execution_count": 80,
   "metadata": {
    "tags": []
   },
   "outputs": [
    {
     "name": "stdout",
     "output_type": "stream",
     "text": [
      "We can see this new data has been added to the `data_keys`: ['cscurrent_2d', 'optional_subgroup/new_data']\n"
     ]
    }
   ],
   "source": [
    "print(f\"We can see this new data has been added to the `data_keys`: {dat.Data.data_keys}\")"
   ]
  },
  {
   "cell_type": "code",
   "execution_count": 81,
   "metadata": {
    "tags": []
   },
   "outputs": [
    {
     "name": "stdout",
     "output_type": "stream",
     "text": [
      "And we can load it like any other data and see that it has shape (100,) as expected\n"
     ]
    }
   ],
   "source": [
    "new_data = dat.Data.get_data('optional_subgroup/new_data')\n",
    "print(f\"And we can load it like any other data and see that it has shape {new_data.shape} as expected\")"
   ]
  },
  {
   "cell_type": "markdown",
   "metadata": {},
   "source": [
    "## Logs Attr\n",
    "Access to the experiment logs (sweeplogs, scan_vars, etc) is provided through the `.Logs` attr of the `DatHDF` object"
   ]
  },
  {
   "cell_type": "markdown",
   "metadata": {},
   "source": [
    "### What's in the HDF\n",
    "\n",
    "To see what exists directly in the HDF file (i.e. what was copied from the experiment HDF). \n",
    "\n",
    "You could then access these through the HDF directly (i.e. `with dat.hdf_read as f: ...`), but probably easier to use the shortcuts that are built into the `Logs` class"
   ]
  },
  {
   "cell_type": "code",
   "execution_count": 82,
   "metadata": {
    "tags": []
   },
   "outputs": [
    {
     "name": "stdout",
     "output_type": "stream",
     "text": [
      "['Temperatures', 'sweep_logs_string', 'Magnet z', 'scan_vars_string', 'FastDAC1', 'FastDAC3', 'Other', 'General', 'FastDAC2']\n"
     ]
    }
   ],
   "source": [
    "print(dat.Logs.logs_keys)"
   ]
  },
  {
   "cell_type": "markdown",
   "metadata": {},
   "source": [
    "### Shortcuts to commonly used logs\n",
    "\n",
    "For more commonly used parts of sweeplogs there are shortcuts build in.\n",
    "\n",
    "**Note: In jupyter, you can easily see what is accessible by pressing typing `dat.Logs.` then pressing `Tab`** "
   ]
  },
  {
   "cell_type": "markdown",
   "metadata": {},
   "source": [
    "#### Logs.sweeplogs"
   ]
  },
  {
   "cell_type": "code",
   "execution_count": 83,
   "metadata": {
    "tags": []
   },
   "outputs": [
    {
     "name": "stdout",
     "output_type": "stream",
     "text": [
      "{'FastDAC 1': {'ADC0': 47.62136,\n",
      "               'ADC1': 1164.12039,\n",
      "               'ADC2': -0.80861,\n",
      "               'ADC3': 2.58442,\n",
      "               'AWG': {'AWG_used': 0,\n",
      "                       'AW_Dacs': '2,0',\n",
      "                       'AW_Waves': '0,1',\n",
      "                       'measureFreq': 1269,\n",
      "                       'numADCs': 2,\n",
      "                       'numCycles': 1,\n",
      "                       'numSteps': 127,\n",
      "                       'numWaves': 2,\n",
      "                       'samplingFreq': 2538.1,\n",
      "                       'waveLen': 100},\n",
      "               'DAC0{OHV*9950}': 0.0,\n",
      "               'DAC1{CA2bias*10000}': -622.8638,\n",
      "               'DAC2{OHC(10M)}': 0.0,\n",
      "               'DAC3{RC2*122}': 0.0,\n",
      "               'DAC4{P*2}': -419.3115,\n",
      "               'DAC5{P*200}': 854.5183,\n",
      "               'DAC6{CSQ2*1000}': 0.0,\n",
      "               'DAC7{N*40}': 0.0,\n",
      "               'MeasureFreq': 2538.1,\n",
      "               'SamplingFreq': 2538.1,\n",
      "               'visa_address': 'ASRL13::INSTR'},\n",
      " 'FastDAC 2': {'ADC4': 0.13817,\n",
      "               'ADC5': 0.799,\n",
      "               'ADC6': 1.91639,\n",
      "               'ADC7': 1.08255,\n",
      "               'AWG': {'AWG_used': 0,\n",
      "                       'AW_Dacs': '2,0',\n",
      "                       'AW_Waves': '0,1',\n",
      "                       'measureFreq': 1269,\n",
      "                       'numADCs': 2,\n",
      "                       'numCycles': 1,\n",
      "                       'numSteps': 127,\n",
      "                       'numWaves': 2,\n",
      "                       'samplingFreq': 2538.1,\n",
      "                       'waveLen': 100},\n",
      "               'DAC10{CSS}': -339.9658,\n",
      "               'DAC11{N*2}': -455.6274,\n",
      "               'DAC12{CSQ2*20}': -3021.8506,\n",
      "               'DAC13{H1R}': -744.9341,\n",
      "               'DAC14{RC2*11.1}': -2299.8047,\n",
      "               'DAC15{CA1bias*113824}': -4974.9756,\n",
      "               'DAC8{H2D}': -1199.9512,\n",
      "               'DAC9{BD}': -399.7803,\n",
      "               'MeasureFreq': 2538.1,\n",
      "               'SamplingFreq': 2538.1,\n",
      "               'visa_address': 'ASRL7::INSTR'},\n",
      " 'FastDAC 3': {'ADC10': 2.28645,\n",
      "               'ADC11': 5.03788,\n",
      "               'ADC8': 2.22878,\n",
      "               'ADC9': 5.64584,\n",
      "               'AWG': {'AWG_used': 0,\n",
      "                       'AW_Dacs': '2,0',\n",
      "                       'AW_Waves': '0,1',\n",
      "                       'measureFreq': 1269,\n",
      "                       'numADCs': 2,\n",
      "                       'numCycles': 1,\n",
      "                       'numSteps': 127,\n",
      "                       'numWaves': 2,\n",
      "                       'samplingFreq': 2538.1,\n",
      "                       'waveLen': 100},\n",
      "               'DAC16{H1L}': -899.9634,\n",
      "               'DAC17{H1C}': -1449.8901,\n",
      "               'DAC18{HC}': -1633.9111,\n",
      "               'DAC19{PINK}': 9.7659,\n",
      "               'DAC20{CA2drain*3727}': 186.1629,\n",
      "               'DAC21{CSS1}': -199.8901,\n",
      "               'DAC22{}': 0.0,\n",
      "               'DAC23{}': 0.0,\n",
      "               'MeasureFreq': 2538.1,\n",
      "               'SamplingFreq': 2538.1,\n",
      "               'visa_address': 'ASRL5::INSTR'},\n",
      " 'LS625 Magnet Supply': {'field mT': 69.76,\n",
      "                         'rate mT/min': 50.157,\n",
      "                         'variable name': 'magz'},\n",
      " 'Lakeshore': {'Temperature': {'4K Plate K': 3.19588,\n",
      "                               '50K Plate K': 62.6118,\n",
      "                               'MC K': 0.0084655,\n",
      "                               'Magnet K': 3.78012,\n",
      "                               'Still K': 0.731352}},\n",
      " 'axis_labels': {'x': 'P*200 (mV)', 'y': 'PINK (mV)'},\n",
      " 'comment': 'Dot Tuning, ',\n",
      " 'current_config': 'sc1677882638.json',\n",
      " 'filenum': 6420,\n",
      " 'measureFreq': 2538.07107,\n",
      " 'read_vs_time': 0.0,\n",
      " 'resamplingFreq': 50.0,\n",
      " 'resamplingState': None,\n",
      " 'sweeprate': 1000.0,\n",
      " 'time_completed': 'March 3, 2023 14:35:42',\n",
      " 'time_elapsed': 295.41,\n",
      " 'x_channels': 5,\n",
      " 'y_channels': 19}\n"
     ]
    }
   ],
   "source": [
    "from pprint import pprint  # For nicer printing\n",
    "sl = dat.Logs.sweeplogs\n",
    "pprint(sl)"
   ]
  },
  {
   "cell_type": "markdown",
   "metadata": {},
   "source": [
    "As you can see, there is quite a lot of information saved in the sweeplogs... \n",
    "\n",
    "It's formed of nested dictionaries, to make accessing deeper parts of it, you can use the package `dictor` which is included in the `dat_analysis` installation\n",
    "\n",
    "For example, to get to the `MC K` temperature which is quite nested, you can do:"
   ]
  },
  {
   "cell_type": "code",
   "execution_count": 84,
   "metadata": {
    "tags": []
   },
   "outputs": [
    {
     "name": "stdout",
     "output_type": "stream",
     "text": [
      "MC Temperatrue from sweeplogs = 0.0084655 K\n"
     ]
    }
   ],
   "source": [
    "from dictor import dictor\n",
    "\n",
    "print(f\"MC Temperatrue from sweeplogs = {dictor(sl, 'Lakeshore.Temperature.MC K')} K\")"
   ]
  },
  {
   "cell_type": "markdown",
   "metadata": {},
   "source": [
    "#### Logs.temperatures"
   ]
  },
  {
   "cell_type": "code",
   "execution_count": 85,
   "metadata": {
    "tags": []
   },
   "outputs": [
    {
     "name": "stdout",
     "output_type": "stream",
     "text": [
      "Temperatures(fiftyk=62.6118, fourk=3.19588, magnet=3.78012, still=0.731352, mc=0.0084655)\n",
      "0.0084655\n"
     ]
    }
   ],
   "source": [
    "print(dat.Logs.temperatures)  # All stored in a NamedTuple\n",
    "print(dat.Logs.temperatures.mc)  # Easy access to any individual temperature"
   ]
  },
  {
   "cell_type": "markdown",
   "metadata": {},
   "source": [
    "#### Logs.dacs"
   ]
  },
  {
   "cell_type": "code",
   "execution_count": 86,
   "metadata": {
    "tags": []
   },
   "outputs": [
    {
     "data": {
      "text/plain": [
       "{'OHV*9950': 0.0,\n",
       " 'CA2bias*10000': -622.8638,\n",
       " 'OHC(10M)': 0.0,\n",
       " 'RC2*122': 0.0,\n",
       " 'P*2': -419.3115,\n",
       " 'P*200': 854.5183,\n",
       " 'CSQ2*1000': 0.0,\n",
       " 'N*40': 0.0,\n",
       " 'CSS': -339.9658,\n",
       " 'N*2': -455.6274,\n",
       " 'CSQ2*20': -3021.8506,\n",
       " 'H1R': -744.9341,\n",
       " 'RC2*11.1': -2299.8047,\n",
       " 'CA1bias*113824': -4974.9756,\n",
       " 'H2D': -1199.9512,\n",
       " 'BD': -399.7803,\n",
       " 'H1L': -899.9634,\n",
       " 'H1C': -1449.8901,\n",
       " 'HC': -1633.9111,\n",
       " 'PINK': 9.7659,\n",
       " 'CA2drain*3727': 186.1629,\n",
       " 'CSS1': -199.8901,\n",
       " 'DAC22': 0.0,\n",
       " 'DAC23': 0.0}"
      ]
     },
     "execution_count": 86,
     "metadata": {},
     "output_type": "execute_result"
    }
   ],
   "source": [
    "dat.Logs.dacs"
   ]
  },
  {
   "cell_type": "markdown",
   "metadata": {},
   "source": [
    "#### Logs.scan_vars\n",
    "\n",
    "These are the same ScanVars that are used in Igor during the scan."
   ]
  },
  {
   "cell_type": "code",
   "execution_count": 87,
   "metadata": {
    "tags": []
   },
   "outputs": [
    {
     "data": {
      "text/plain": [
       "{'Filenum': 6420,\n",
       " 'Traceback': 'mar3_BD_SD_varying_coupling_dottunes,Procedure,6556;DotTuneAround,Tim_Scans.ipf,163;ScanFastDAC2D,Scans.ipf,671;EndScan,ScanController.ipf,1739;SaveToHDF,ScanController_IO.ipf,335;addMetaFiles,ScanController_IO.ipf,82;',\n",
       " 'x_label': 'P*200 (mV)',\n",
       " 'y_label': 'PINK (mV)',\n",
       " 'startx': -1145.5,\n",
       " 'finx': 854.5,\n",
       " 'numptsx': 5076,\n",
       " 'channelsx': '5',\n",
       " 'rampratex': 0,\n",
       " 'delayx': 0,\n",
       " 'is2D': 1,\n",
       " 'starty': -90,\n",
       " 'finy': 10,\n",
       " 'numptsy': 131,\n",
       " 'channelsy': '19',\n",
       " 'rampratey': 0,\n",
       " 'delayy': 0.01,\n",
       " 'duration': 1.9999,\n",
       " 'alternate': 0,\n",
       " 'readVsTime': 0,\n",
       " 'interlaced_y_flag': 0,\n",
       " 'interlaced_channels': 'null',\n",
       " 'interlaced_setpoints': 'null',\n",
       " 'interlaced_num_setpoints': 0,\n",
       " 'start_time': 3760698647.22,\n",
       " 'end_time': 3760698942.63,\n",
       " 'using_fastdac': 1,\n",
       " 'comments': 'Dot Tuning, ',\n",
       " 'numADCs': 1,\n",
       " 'samplingFreq': 2538.1,\n",
       " 'measureFreq': 2538.1,\n",
       " 'sweeprate': 1000,\n",
       " 'adcList': '1;',\n",
       " 'startxs': '-1145.5',\n",
       " 'finxs': '854.5',\n",
       " 'startys': '-90',\n",
       " 'finys': '10',\n",
       " 'raw_wave_names': 'null'}"
      ]
     },
     "execution_count": 87,
     "metadata": {},
     "output_type": "execute_result"
    }
   ],
   "source": [
    "dat.Logs.scan_vars"
   ]
  },
  {
   "cell_type": "markdown",
   "metadata": {},
   "source": [
    "#### Logs.get_fastdac()\n"
   ]
  },
  {
   "cell_type": "code",
   "execution_count": 88,
   "metadata": {
    "tags": []
   },
   "outputs": [
    {
     "name": "stdout",
     "output_type": "stream",
     "text": [
      "FastDAC(dac_vals={0: 0.0,\n",
      "                  1: -622.8638,\n",
      "                  2: 0.0,\n",
      "                  3: 0.0,\n",
      "                  4: -419.3115,\n",
      "                  5: 854.5183,\n",
      "                  6: 0.0,\n",
      "                  7: 0.0},\n",
      "        dac_names={0: 'OHV*9950',\n",
      "                   1: 'CA2bias*10000',\n",
      "                   2: 'OHC(10M)',\n",
      "                   3: 'RC2*122',\n",
      "                   4: 'P*2',\n",
      "                   5: 'P*200',\n",
      "                   6: 'CSQ2*1000',\n",
      "                   7: 'N*40'},\n",
      "        adcs={0: 47.62136, 1: 1164.12039, 2: -0.80861, 3: 2.58442},\n",
      "        sample_freq=2538.1,\n",
      "        measure_freq=2538.1,\n",
      "        AWG={'AWG_used': 0,\n",
      "             'AW_Dacs': '2,0',\n",
      "             'AW_Waves': '0,1',\n",
      "             'measureFreq': 1269,\n",
      "             'numADCs': 2,\n",
      "             'numCycles': 1,\n",
      "             'numSteps': 127,\n",
      "             'numWaves': 2,\n",
      "             'samplingFreq': 2538.1,\n",
      "             'waveLen': 100},\n",
      "        visa_address='ASRL13::INSTR')\n"
     ]
    }
   ],
   "source": [
    "pprint(dat.Logs.get_fastdac(1))"
   ]
  },
  {
   "cell_type": "markdown",
   "metadata": {},
   "source": [
    "#### Other shortcuts"
   ]
  },
  {
   "cell_type": "code",
   "execution_count": 89,
   "metadata": {
    "tags": []
   },
   "outputs": [
    {
     "name": "stdout",
     "output_type": "stream",
     "text": [
      "Comments: ['Dot Tuning', '']\n",
      "Time Completed: March 3, 2023 14:35:42\n",
      "Magnets: Magnets(x=None, y=None, z=Magnet(axis='z', field=69.76, rate=50.157))\n",
      "Measure Frequency (using FastDAC): 2538.07107\n",
      "X axis label: P*200 (mV)\n",
      "Y axis label: PINK (mV)\n"
     ]
    }
   ],
   "source": [
    "print('Comments:', dat.Logs.comments)\n",
    "print('Time Completed:', dat.Logs.time_completed)\n",
    "print('Magnets:', dat.Logs.magnets)\n",
    "print('Measure Frequency (using FastDAC):', dat.Logs.measure_freq)\n",
    "print('X axis label:', dat.Logs.x_label)\n",
    "print('Y axis label:', dat.Logs.y_label)"
   ]
  },
  {
   "cell_type": "code",
   "execution_count": null,
   "metadata": {},
   "outputs": [],
   "source": []
  },
  {
   "cell_type": "code",
   "execution_count": null,
   "metadata": {},
   "outputs": [],
   "source": []
  }
 ],
 "metadata": {
  "kernelspec": {
   "display_name": "Python 3 (ipykernel)",
   "language": "python",
   "name": "python3"
  },
  "language_info": {
   "codemirror_mode": {
    "name": "ipython",
    "version": 3
   },
   "file_extension": ".py",
   "mimetype": "text/x-python",
   "name": "python",
   "nbconvert_exporter": "python",
   "pygments_lexer": "ipython3",
   "version": "3.10.10"
  }
 },
 "nbformat": 4,
 "nbformat_minor": 4
}
